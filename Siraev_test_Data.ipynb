{
 "cells": [
  {
   "cell_type": "markdown",
   "id": "00209d42-735d-46d3-b9f4-f4cb447b0b13",
   "metadata": {},
   "source": [
    "# Студенты с курсами и без них"
   ]
  },
  {
   "cell_type": "markdown",
   "id": "2fa3456f-8107-4d04-bde2-e8348e7cd453",
   "metadata": {},
   "source": [
    "Есть 2 группы студентов одна их которых ходила на подготовительные курсы, другая нет.\r\n",
    "Нужно понять повлияло ли посещение курсов на балл студентов."
   ]
  },
  {
   "cell_type": "markdown",
   "id": "962b0583-1b1a-4783-8c71-a1adf447b65a",
   "metadata": {},
   "source": [
    "Импорт библиотек"
   ]
  },
  {
   "cell_type": "code",
   "execution_count": 1,
   "id": "93b90de9-827d-460e-8318-5addade6d707",
   "metadata": {},
   "outputs": [],
   "source": [
    "import pandas as pd\n",
    "import matplotlib.pyplot as plt\n",
    "import seaborn as sns\n",
    "import numpy as np\n",
    "\n",
    "\n",
    "import scipy.stats as st"
   ]
  },
  {
   "cell_type": "markdown",
   "id": "60d9a9b9-c35e-4784-8da8-e2ac95292868",
   "metadata": {},
   "source": [
    "Рассмотрим данные"
   ]
  },
  {
   "cell_type": "code",
   "execution_count": 2,
   "id": "442de73c-9dfd-4925-afcc-75509466301a",
   "metadata": {},
   "outputs": [],
   "source": [
    "df_before = pd.read_csv('student_before_score.csv')"
   ]
  },
  {
   "cell_type": "code",
   "execution_count": 3,
   "id": "3baa0cee-f1f3-451a-8868-65d97e031e88",
   "metadata": {},
   "outputs": [
    {
     "name": "stdout",
     "output_type": "stream",
     "text": [
      "<class 'pandas.core.frame.DataFrame'>\n",
      "RangeIndex: 1000 entries, 0 to 999\n",
      "Data columns (total 2 columns):\n",
      " #   Column        Non-Null Count  Dtype\n",
      "---  ------        --------------  -----\n",
      " 0   student_id    1000 non-null   int64\n",
      " 1   before_score  1000 non-null   int64\n",
      "dtypes: int64(2)\n",
      "memory usage: 15.8 KB\n"
     ]
    }
   ],
   "source": [
    "df_before.info()"
   ]
  },
  {
   "cell_type": "code",
   "execution_count": 4,
   "id": "50521f5e-5f30-43d4-ac3a-01bed1641104",
   "metadata": {},
   "outputs": [
    {
     "data": {
      "text/html": [
       "<div>\n",
       "<style scoped>\n",
       "    .dataframe tbody tr th:only-of-type {\n",
       "        vertical-align: middle;\n",
       "    }\n",
       "\n",
       "    .dataframe tbody tr th {\n",
       "        vertical-align: top;\n",
       "    }\n",
       "\n",
       "    .dataframe thead th {\n",
       "        text-align: right;\n",
       "    }\n",
       "</style>\n",
       "<table border=\"1\" class=\"dataframe\">\n",
       "  <thead>\n",
       "    <tr style=\"text-align: right;\">\n",
       "      <th></th>\n",
       "      <th>student_id</th>\n",
       "      <th>before_score</th>\n",
       "    </tr>\n",
       "  </thead>\n",
       "  <tbody>\n",
       "    <tr>\n",
       "      <th>0</th>\n",
       "      <td>1</td>\n",
       "      <td>75</td>\n",
       "    </tr>\n",
       "    <tr>\n",
       "      <th>1</th>\n",
       "      <td>2</td>\n",
       "      <td>81</td>\n",
       "    </tr>\n",
       "    <tr>\n",
       "      <th>2</th>\n",
       "      <td>3</td>\n",
       "      <td>58</td>\n",
       "    </tr>\n",
       "    <tr>\n",
       "      <th>3</th>\n",
       "      <td>4</td>\n",
       "      <td>47</td>\n",
       "    </tr>\n",
       "    <tr>\n",
       "      <th>4</th>\n",
       "      <td>5</td>\n",
       "      <td>76</td>\n",
       "    </tr>\n",
       "  </tbody>\n",
       "</table>\n",
       "</div>"
      ],
      "text/plain": [
       "   student_id  before_score\n",
       "0           1            75\n",
       "1           2            81\n",
       "2           3            58\n",
       "3           4            47\n",
       "4           5            76"
      ]
     },
     "execution_count": 4,
     "metadata": {},
     "output_type": "execute_result"
    }
   ],
   "source": [
    "df_before.head(5)"
   ]
  },
  {
   "cell_type": "code",
   "execution_count": 5,
   "id": "dfce351e-7d0a-4811-b961-1c7685f5452a",
   "metadata": {},
   "outputs": [
    {
     "data": {
      "image/png": "[encoded data removed]",
      "text/plain": [
       "<Figure size 640x480 with 1 Axes>"
      ]
     },
     "metadata": {},
     "output_type": "display_data"
    }
   ],
   "source": [
    "sns.histplot(df_before['before_score'])\n",
    "plt.grid(True)\n",
    "plt.title('Распределение оценок без курсов')\n",
    "None"
   ]
  },
  {
   "cell_type": "code",
   "execution_count": 6,
   "id": "855b7544-eeca-4c6d-a8fa-48f856245bf7",
   "metadata": {},
   "outputs": [],
   "source": [
    "df_after = pd.read_csv('student_after_score.csv')"
   ]
  },
  {
   "cell_type": "code",
   "execution_count": 7,
   "id": "62c529d1-320e-4d87-af80-b4ca401138fc",
   "metadata": {},
   "outputs": [
    {
     "name": "stdout",
     "output_type": "stream",
     "text": [
      "<class 'pandas.core.frame.DataFrame'>\n",
      "RangeIndex: 1000 entries, 0 to 999\n",
      "Data columns (total 2 columns):\n",
      " #   Column       Non-Null Count  Dtype\n",
      "---  ------       --------------  -----\n",
      " 0   student_id   1000 non-null   int64\n",
      " 1   after_score  1000 non-null   int64\n",
      "dtypes: int64(2)\n",
      "memory usage: 15.8 KB\n"
     ]
    }
   ],
   "source": [
    "df_after.info()"
   ]
  },
  {
   "cell_type": "code",
   "execution_count": 8,
   "id": "f7c88aaf-c230-43f3-9fbe-d76a920773ea",
   "metadata": {},
   "outputs": [
    {
     "data": {
      "text/html": [
       "<div>\n",
       "<style scoped>\n",
       "    .dataframe tbody tr th:only-of-type {\n",
       "        vertical-align: middle;\n",
       "    }\n",
       "\n",
       "    .dataframe tbody tr th {\n",
       "        vertical-align: top;\n",
       "    }\n",
       "\n",
       "    .dataframe thead th {\n",
       "        text-align: right;\n",
       "    }\n",
       "</style>\n",
       "<table border=\"1\" class=\"dataframe\">\n",
       "  <thead>\n",
       "    <tr style=\"text-align: right;\">\n",
       "      <th></th>\n",
       "      <th>student_id</th>\n",
       "      <th>after_score</th>\n",
       "    </tr>\n",
       "  </thead>\n",
       "  <tbody>\n",
       "    <tr>\n",
       "      <th>0</th>\n",
       "      <td>1</td>\n",
       "      <td>92</td>\n",
       "    </tr>\n",
       "    <tr>\n",
       "      <th>1</th>\n",
       "      <td>2</td>\n",
       "      <td>79</td>\n",
       "    </tr>\n",
       "    <tr>\n",
       "      <th>2</th>\n",
       "      <td>3</td>\n",
       "      <td>92</td>\n",
       "    </tr>\n",
       "    <tr>\n",
       "      <th>3</th>\n",
       "      <td>4</td>\n",
       "      <td>90</td>\n",
       "    </tr>\n",
       "    <tr>\n",
       "      <th>4</th>\n",
       "      <td>5</td>\n",
       "      <td>98</td>\n",
       "    </tr>\n",
       "  </tbody>\n",
       "</table>\n",
       "</div>"
      ],
      "text/plain": [
       "   student_id  after_score\n",
       "0           1           92\n",
       "1           2           79\n",
       "2           3           92\n",
       "3           4           90\n",
       "4           5           98"
      ]
     },
     "execution_count": 8,
     "metadata": {},
     "output_type": "execute_result"
    }
   ],
   "source": [
    "df_after.head(5)"
   ]
  },
  {
   "cell_type": "code",
   "execution_count": 9,
   "id": "187cc19a-30e2-474f-85ba-86636d5b8a29",
   "metadata": {},
   "outputs": [
    {
     "data": {
      "image/png": "[encoded data removed]",
      "text/plain": [
       "<Figure size 640x480 with 1 Axes>"
      ]
     },
     "metadata": {},
     "output_type": "display_data"
    }
   ],
   "source": [
    "sns.histplot(df_after['after_score'])\n",
    "plt.grid(True)\n",
    "plt.title('Распределение оценок после курсов')\n",
    "None"
   ]
  },
  {
   "cell_type": "markdown",
   "id": "dd13d394-20c3-4e03-8ac1-f5d6239fbd22",
   "metadata": {},
   "source": [
    "## Независимые группы."
   ]
  },
  {
   "cell_type": "markdown",
   "id": "4364131f-4d6f-48d3-89c1-c5b6f7393155",
   "metadata": {},
   "source": [
    "Нулевая гипотеза: средние значения оценок студентов из двух групп равны.\n",
    "Альтернативная гипотеза: среднее значение оценок студентов после курсов больше"
   ]
  },
  {
   "cell_type": "code",
   "execution_count": 10,
   "id": "bab455ad-39da-4f3b-ac22-3742ff357d99",
   "metadata": {},
   "outputs": [
    {
     "name": "stdout",
     "output_type": "stream",
     "text": [
      "p-value: 3.6845605058580334e-244\n"
     ]
    }
   ],
   "source": [
    "results = st.ttest_ind(df_after['after_score'], df_before['before_score'], alternative='greater')\n",
    "\n",
    "print(f'p-value: {results.pvalue}')"
   ]
  },
  {
   "cell_type": "markdown",
   "id": "47ab7572-a4d0-489e-817e-6c2f934c8e4c",
   "metadata": {},
   "source": [
    "p-value близко к нулю, определённо, оценки после курсов выше."
   ]
  },
  {
   "cell_type": "markdown",
   "id": "cc794f32-b6d7-4cda-994d-a92fb92b34d3",
   "metadata": {},
   "source": [
    "## Зависимые группы."
   ]
  },
  {
   "cell_type": "markdown",
   "id": "dc4a6799-9e96-4511-bbdc-42d835cff49a",
   "metadata": {},
   "source": [
    "В случае если имеется в виду оценки одних студентов до и после курсов."
   ]
  },
  {
   "cell_type": "code",
   "execution_count": 11,
   "id": "28d0683a-4d3f-4472-ad4a-146c7bfd6139",
   "metadata": {},
   "outputs": [
    {
     "data": {
      "image/png": "[encoded data removed]",
      "text/plain": [
       "<Figure size 640x480 with 1 Axes>"
      ]
     },
     "metadata": {},
     "output_type": "display_data"
    }
   ],
   "source": [
    "sns.histplot(df_after['after_score'] - df_before['before_score'])\n",
    "plt.grid(True)\n",
    "plt.title('Распределение разницы оценок')\n",
    "None"
   ]
  },
  {
   "cell_type": "markdown",
   "id": "5de7ecb6-f153-4ad9-a32e-ca75068eecfb",
   "metadata": {},
   "source": [
    "Нулевая гипотеза: средние значения оценок студентов до и после курсов равны.\n",
    "Альтернативная гипотеза: среднее значение оценок студентов до и после курсов не равны."
   ]
  },
  {
   "cell_type": "code",
   "execution_count": 12,
   "id": "3d3b9c02-5a97-4f95-a184-d05d1b24bd85",
   "metadata": {},
   "outputs": [
    {
     "name": "stdout",
     "output_type": "stream",
     "text": [
      "p-значение: 2.80891949404603e-202\n"
     ]
    }
   ],
   "source": [
    "results = st.ttest_rel(df_before['before_score'], df_after['after_score'])\n",
    "print('p-значение:', results.pvalue)"
   ]
  },
  {
   "cell_type": "markdown",
   "id": "dd1a30a3-69e6-4213-a3b2-4c9a4eac8396",
   "metadata": {},
   "source": [
    "p-value близко к нулю, определённо, оценки после курсов выше. Это же подтверждается графиком"
   ]
  },
  {
   "cell_type": "markdown",
   "id": "752895b5-b058-4a9e-a772-4916f9ebf806",
   "metadata": {},
   "source": [
    "## Вывод\n",
    "Определённо, оценки студентов после курсов выше"
   ]
  }
 ],
 "metadata": {
  "kernelspec": {
   "display_name": "Python 3 (ipykernel)",
   "language": "python",
   "name": "python3"
  },
  "language_info": {
   "codemirror_mode": {
    "name": "ipython",
    "version": 3
   },
   "file_extension": ".py",
   "mimetype": "text/x-python",
   "name": "python",
   "nbconvert_exporter": "python",
   "pygments_lexer": "ipython3",
   "version": "3.11.0"
  }
 },
 "nbformat": 4,
 "nbformat_minor": 5
}
